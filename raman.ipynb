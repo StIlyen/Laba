{
 "cells": [
  {
   "cell_type": "code",
   "execution_count": 54,
   "metadata": {},
   "outputs": [],
   "source": [
    "from pyspectra.readers.read_spc import read_spc\n",
    "import matplotlib.pyplot as plt\n",
    "import os\n",
    "import numpy as np\n",
    "from scipy.signal import find_peaks"
   ]
  },
  {
   "cell_type": "code",
   "execution_count": null,
   "metadata": {},
   "outputs": [],
   "source": [
    "# Configure directory and parameters\n",
    "directory = 'C:/Users/user/Desktop/Raw data/Raman/27.12.2024/2024_12_27 Ilin/'  # ← Change to your directory\n",
    "peak_params = {\n",
    "    'height': 100,   # Minimum peak height\n",
    "    'prominence': 50,  # Minimum peak prominence\n",
    "    'distance': 10    # Minimum distance between peaks\n",
    "}\n",
    "\n",
    "def process_and_plot(filepath):\n",
    "    \"\"\"Process single SPC file and create annotated plot\"\"\"\n",
    "    # Load data and extract filename\n",
    "    spc = read_spc(filepath)\n",
    "    filename = os.path.basename(filepath)\n",
    "    \n",
    "    # Extract and filter data\n",
    "    x_raw = spc.index.to_numpy()\n",
    "    y_raw = spc.to_numpy()\n",
    "    mask = (x_raw >= 25) & (x_raw <= 400)\n",
    "    x, y = x_raw[mask], y_raw[mask]\n",
    "    \n",
    "    # Detect peaks\n",
    "    peaks, _ = find_peaks(y, **peak_params)\n",
    "    peak_positions = x[peaks]\n",
    "    \n",
    "    # Create figure with proper tick directions\n",
    "    plt.figure(figsize=(7, 7))\n",
    "    ax = spc.plot(linewidth=3, label=filename)\n",
    "    \n",
    "    # Configure axes\n",
    "    plt.xlim(25, 400)\n",
    "    plt.xlabel('Raman Shift (cm$^{-1}$)', fontsize=14)\n",
    "    plt.ylabel('Intensity (a.u.)', fontsize=14)\n",
    "    plt.title('Raman Spectrum for \"Sample Name\"', fontsize=16)\n",
    "    \n",
    "    # Set ticks on all sides pointing inward\n",
    "    ax.tick_params(axis='both', which='major', direction='in',\n",
    "                   top=True, right=True, labelsize=12)\n",
    "    \n",
    "    # Annotate peaks\n",
    "    for peak_x, peak_y in zip(peak_positions, y[peaks]):\n",
    "        ax.scatter(peak_x, peak_y, color='red', marker='x', \n",
    "                  s=100, linewidth=2, zorder=3)\n",
    "        ax.text(peak_x, peak_y+50, f'{peak_x:.1f}',  # Offset text vertically\n",
    "               ha='center', va='bottom', fontsize=10,\n",
    "               color='darkred', rotation=45,\n",
    "               bbox=dict(facecolor='white', alpha=0.8, edgecolor='none'))\n",
    "    \n",
    "    plt.legend()\n",
    "    plt.tight_layout()\n",
    "    plt.savefig('C:/Users/user/Desktop/Pictures/27.12.2024 Raman/' + filename + '.png', dpi=300)\n",
    "\n",
    "\n",
    "# Process all SPC files in directory\n",
    "for fname in os.listdir(directory):\n",
    "    if fname.endswith('.spc'):\n",
    "        full_path = os.path.join(directory, fname)\n",
    "        process_and_plot(full_path)\n",
    "\n",
    "\n"
   ]
  }
 ],
 "metadata": {
  "kernelspec": {
   "display_name": "Python 3",
   "language": "python",
   "name": "python3"
  },
  "language_info": {
   "codemirror_mode": {
    "name": "ipython",
    "version": 3
   },
   "file_extension": ".py",
   "mimetype": "text/x-python",
   "name": "python",
   "nbconvert_exporter": "python",
   "pygments_lexer": "ipython3",
   "version": "3.13.2"
  }
 },
 "nbformat": 4,
 "nbformat_minor": 2
}
