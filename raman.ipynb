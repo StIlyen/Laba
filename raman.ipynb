{
 "cells": [
  {
   "cell_type": "code",
   "execution_count": 8,
   "metadata": {},
   "outputs": [
    {
     "name": "stdout",
     "output_type": "stream",
     "text": [
      "Requirement already satisfied: setuptools in c:\\users\\user\\appdata\\local\\programs\\python\\python313\\lib\\site-packages (75.8.0)\n",
      "Note: you may need to restart the kernel to use updated packages.\n"
     ]
    }
   ],
   "source": [
    "pip install --upgrade setuptools\n"
   ]
  },
  {
   "cell_type": "code",
   "execution_count": 5,
   "metadata": {},
   "outputs": [
    {
     "name": "stdout",
     "output_type": "stream",
     "text": [
      "Collecting spc\n",
      "  Using cached spc-0.3.tar.gz (4.3 kB)\n",
      "  Preparing metadata (setup.py): started\n",
      "  Preparing metadata (setup.py): finished with status 'error'\n",
      "Note: you may need to restart the kernel to use updated packages.\n"
     ]
    },
    {
     "name": "stderr",
     "output_type": "stream",
     "text": [
      "  error: subprocess-exited-with-error\n",
      "  \n",
      "  × python setup.py egg_info did not run successfully.\n",
      "  │ exit code: 1\n",
      "  ╰─> [46 lines of output]\n",
      "      Downloading http://pypi.python.org/packages/source/d/distribute/distribute-0.6.14.tar.gz\n",
      "      Traceback (most recent call last):\n",
      "        File \u001b[35m\"c:\\Users\\user\\AppData\\Local\\Programs\\Python\\Python313\\Lib\\site-packages\\ez_setup.py\"\u001b[0m, line \u001b[35m143\u001b[0m, in \u001b[35muse_setuptools\u001b[0m\n",
      "          raise ImportError\n",
      "      \u001b[1;35mImportError\u001b[0m\n",
      "      \n",
      "      During handling of the above exception, another exception occurred:\n",
      "      \n",
      "      Traceback (most recent call last):\n",
      "        File \u001b[35m\"<string>\"\u001b[0m, line \u001b[35m2\u001b[0m, in \u001b[35m<module>\u001b[0m\n",
      "          \u001b[31mexec\u001b[0m\u001b[1;31m(compile('''\u001b[0m\n",
      "          \u001b[31m~~~~\u001b[0m\u001b[1;31m^^^^^^^^^^^^\u001b[0m\n",
      "          \u001b[1;31m# This is <pip-setuptools-caller> -- a caller that pip uses to run setup.py\u001b[0m\n",
      "          \u001b[1;31m^^^^^^^^^^^^^^^^^^^^^^^^^^^^^^^^^^^^^^^^^^^^^^^^^^^^^^^^^^^^^^^^^^^^^^^^^^^\u001b[0m\n",
      "          ...<31 lines>...\n",
      "          \u001b[1;31mexec(compile(setup_py_code, filename, \"exec\"))\u001b[0m\n",
      "          \u001b[1;31m^^^^^^^^^^^^^^^^^^^^^^^^^^^^^^^^^^^^^^^^^^^^^^\u001b[0m\n",
      "          \u001b[1;31m''' % ('C:\\\\Users\\\\user\\\\AppData\\\\Local\\\\Temp\\\\pip-install-gkib_bbb\\\\spc_7d5630f48f664f53a6fdd85afd1a8b76\\\\setup.py',), \"<pip-setuptools-caller>\", \"exec\"))\u001b[0m\n",
      "          \u001b[1;31m^^^^^^^^^^^^^^^^^^^^^^^^^^^^^^^^^^^^^^^^^^^^^^^^^^^^^^^^^^^^^^^^^^^^^^^^^^^^^^^^^^^^^^^^^^^^^^^^^^^^^^^^^^^^^^^^^^^^^^^^^^^^^^^^^^^^^^^^^^^^^^^^^^^^^^^^^^^\u001b[0m\n",
      "        File \u001b[35m\"<pip-setuptools-caller>\"\u001b[0m, line \u001b[35m34\u001b[0m, in \u001b[35m<module>\u001b[0m\n",
      "        File \u001b[35m\"C:\\Users\\user\\AppData\\Local\\Temp\\pip-install-gkib_bbb\\spc_7d5630f48f664f53a6fdd85afd1a8b76\\setup.py\"\u001b[0m, line \u001b[35m4\u001b[0m, in \u001b[35m<module>\u001b[0m\n",
      "          \u001b[31muse_setuptools\u001b[0m\u001b[1;31m()\u001b[0m\n",
      "          \u001b[31m~~~~~~~~~~~~~~\u001b[0m\u001b[1;31m^^\u001b[0m\n",
      "        File \u001b[35m\"c:\\Users\\user\\AppData\\Local\\Programs\\Python\\Python313\\Lib\\site-packages\\ez_setup.py\"\u001b[0m, line \u001b[35m145\u001b[0m, in \u001b[35muse_setuptools\u001b[0m\n",
      "          return _do_download(version, download_base, to_dir, download_delay)\n",
      "        File \u001b[35m\"c:\\Users\\user\\AppData\\Local\\Programs\\Python\\Python313\\Lib\\site-packages\\ez_setup.py\"\u001b[0m, line \u001b[35m123\u001b[0m, in \u001b[35m_do_download\u001b[0m\n",
      "          tarball = download_setuptools(version, download_base,\n",
      "                                        to_dir, download_delay)\n",
      "        File \u001b[35m\"c:\\Users\\user\\AppData\\Local\\Programs\\Python\\Python313\\Lib\\site-packages\\ez_setup.py\"\u001b[0m, line \u001b[35m193\u001b[0m, in \u001b[35mdownload_setuptools\u001b[0m\n",
      "          src = urlopen(url)\n",
      "        File \u001b[35m\"c:\\Users\\user\\AppData\\Local\\Programs\\Python\\Python313\\Lib\\urllib\\request.py\"\u001b[0m, line \u001b[35m189\u001b[0m, in \u001b[35murlopen\u001b[0m\n",
      "          return \u001b[31mopener.open\u001b[0m\u001b[1;31m(url, data, timeout)\u001b[0m\n",
      "                 \u001b[31m~~~~~~~~~~~\u001b[0m\u001b[1;31m^^^^^^^^^^^^^^^^^^^^\u001b[0m\n",
      "        File \u001b[35m\"c:\\Users\\user\\AppData\\Local\\Programs\\Python\\Python313\\Lib\\urllib\\request.py\"\u001b[0m, line \u001b[35m495\u001b[0m, in \u001b[35mopen\u001b[0m\n",
      "          response = meth(req, response)\n",
      "        File \u001b[35m\"c:\\Users\\user\\AppData\\Local\\Programs\\Python\\Python313\\Lib\\urllib\\request.py\"\u001b[0m, line \u001b[35m604\u001b[0m, in \u001b[35mhttp_response\u001b[0m\n",
      "          response = self.parent.error(\n",
      "              'http', request, response, code, msg, hdrs)\n",
      "        File \u001b[35m\"c:\\Users\\user\\AppData\\Local\\Programs\\Python\\Python313\\Lib\\urllib\\request.py\"\u001b[0m, line \u001b[35m533\u001b[0m, in \u001b[35merror\u001b[0m\n",
      "          return \u001b[31mself._call_chain\u001b[0m\u001b[1;31m(*args)\u001b[0m\n",
      "                 \u001b[31m~~~~~~~~~~~~~~~~\u001b[0m\u001b[1;31m^^^^^^^\u001b[0m\n",
      "        File \u001b[35m\"c:\\Users\\user\\AppData\\Local\\Programs\\Python\\Python313\\Lib\\urllib\\request.py\"\u001b[0m, line \u001b[35m466\u001b[0m, in \u001b[35m_call_chain\u001b[0m\n",
      "          result = func(*args)\n",
      "        File \u001b[35m\"c:\\Users\\user\\AppData\\Local\\Programs\\Python\\Python313\\Lib\\urllib\\request.py\"\u001b[0m, line \u001b[35m613\u001b[0m, in \u001b[35mhttp_error_default\u001b[0m\n",
      "          raise HTTPError(req.full_url, code, msg, hdrs, fp)\n",
      "      \u001b[1;35murllib.error.HTTPError\u001b[0m: \u001b[35mHTTP Error 403: SSL is required\u001b[0m\n",
      "      [end of output]\n",
      "  \n",
      "  note: This error originates from a subprocess, and is likely not a problem with pip.\n",
      "error: metadata-generation-failed\n",
      "\n",
      "× Encountered error while generating package metadata.\n",
      "╰─> See above for output.\n",
      "\n",
      "note: This is an issue with the package mentioned above, not pip.\n",
      "hint: See above for details.\n"
     ]
    }
   ],
   "source": [
    "pip install spc"
   ]
  },
  {
   "cell_type": "code",
   "execution_count": 9,
   "metadata": {},
   "outputs": [
    {
     "name": "stdout",
     "output_type": "stream",
     "text": [
      "Files removed: 343 (125.2 MB)\n",
      "Note: you may need to restart the kernel to use updated packages.\n"
     ]
    }
   ],
   "source": [
    "pip cache purge"
   ]
  },
  {
   "cell_type": "code",
   "execution_count": 10,
   "metadata": {},
   "outputs": [
    {
     "name": "stdout",
     "output_type": "stream",
     "text": [
      "Requirement already satisfied: setuptools in c:\\users\\user\\appdata\\local\\programs\\python\\python313\\lib\\site-packages (75.8.0)\n",
      "Requirement already satisfied: wheel in c:\\users\\user\\appdata\\local\\programs\\python\\python313\\lib\\site-packages (0.45.1)\n",
      "Note: you may need to restart the kernel to use updated packages.\n"
     ]
    }
   ],
   "source": [
    "pip install --upgrade setuptools wheel\n"
   ]
  },
  {
   "cell_type": "code",
   "execution_count": 11,
   "metadata": {},
   "outputs": [
    {
     "name": "stdout",
     "output_type": "stream",
     "text": [
      "Collecting spc\n",
      "  Downloading spc-0.3.tar.gz (4.3 kB)\n",
      "  Preparing metadata (setup.py): started\n",
      "  Preparing metadata (setup.py): finished with status 'error'\n",
      "Note: you may need to restart the kernel to use updated packages.\n"
     ]
    },
    {
     "name": "stderr",
     "output_type": "stream",
     "text": [
      "  error: subprocess-exited-with-error\n",
      "  \n",
      "  × python setup.py egg_info did not run successfully.\n",
      "  │ exit code: 1\n",
      "  ╰─> [46 lines of output]\n",
      "      Downloading http://pypi.python.org/packages/source/d/distribute/distribute-0.6.14.tar.gz\n",
      "      Traceback (most recent call last):\n",
      "        File \u001b[35m\"c:\\Users\\user\\AppData\\Local\\Programs\\Python\\Python313\\Lib\\site-packages\\ez_setup.py\"\u001b[0m, line \u001b[35m143\u001b[0m, in \u001b[35muse_setuptools\u001b[0m\n",
      "          raise ImportError\n",
      "      \u001b[1;35mImportError\u001b[0m\n",
      "      \n",
      "      During handling of the above exception, another exception occurred:\n",
      "      \n",
      "      Traceback (most recent call last):\n",
      "        File \u001b[35m\"<string>\"\u001b[0m, line \u001b[35m2\u001b[0m, in \u001b[35m<module>\u001b[0m\n",
      "          \u001b[31mexec\u001b[0m\u001b[1;31m(compile('''\u001b[0m\n",
      "          \u001b[31m~~~~\u001b[0m\u001b[1;31m^^^^^^^^^^^^\u001b[0m\n",
      "          \u001b[1;31m# This is <pip-setuptools-caller> -- a caller that pip uses to run setup.py\u001b[0m\n",
      "          \u001b[1;31m^^^^^^^^^^^^^^^^^^^^^^^^^^^^^^^^^^^^^^^^^^^^^^^^^^^^^^^^^^^^^^^^^^^^^^^^^^^\u001b[0m\n",
      "          ...<31 lines>...\n",
      "          \u001b[1;31mexec(compile(setup_py_code, filename, \"exec\"))\u001b[0m\n",
      "          \u001b[1;31m^^^^^^^^^^^^^^^^^^^^^^^^^^^^^^^^^^^^^^^^^^^^^^\u001b[0m\n",
      "          \u001b[1;31m''' % ('C:\\\\Users\\\\user\\\\AppData\\\\Local\\\\Temp\\\\pip-install-g4b3i9r9\\\\spc_3633c02f21334aa8bccb376d861aae81\\\\setup.py',), \"<pip-setuptools-caller>\", \"exec\"))\u001b[0m\n",
      "          \u001b[1;31m^^^^^^^^^^^^^^^^^^^^^^^^^^^^^^^^^^^^^^^^^^^^^^^^^^^^^^^^^^^^^^^^^^^^^^^^^^^^^^^^^^^^^^^^^^^^^^^^^^^^^^^^^^^^^^^^^^^^^^^^^^^^^^^^^^^^^^^^^^^^^^^^^^^^^^^^^^^\u001b[0m\n",
      "        File \u001b[35m\"<pip-setuptools-caller>\"\u001b[0m, line \u001b[35m34\u001b[0m, in \u001b[35m<module>\u001b[0m\n",
      "        File \u001b[35m\"C:\\Users\\user\\AppData\\Local\\Temp\\pip-install-g4b3i9r9\\spc_3633c02f21334aa8bccb376d861aae81\\setup.py\"\u001b[0m, line \u001b[35m4\u001b[0m, in \u001b[35m<module>\u001b[0m\n",
      "          \u001b[31muse_setuptools\u001b[0m\u001b[1;31m()\u001b[0m\n",
      "          \u001b[31m~~~~~~~~~~~~~~\u001b[0m\u001b[1;31m^^\u001b[0m\n",
      "        File \u001b[35m\"c:\\Users\\user\\AppData\\Local\\Programs\\Python\\Python313\\Lib\\site-packages\\ez_setup.py\"\u001b[0m, line \u001b[35m145\u001b[0m, in \u001b[35muse_setuptools\u001b[0m\n",
      "          return _do_download(version, download_base, to_dir, download_delay)\n",
      "        File \u001b[35m\"c:\\Users\\user\\AppData\\Local\\Programs\\Python\\Python313\\Lib\\site-packages\\ez_setup.py\"\u001b[0m, line \u001b[35m123\u001b[0m, in \u001b[35m_do_download\u001b[0m\n",
      "          tarball = download_setuptools(version, download_base,\n",
      "                                        to_dir, download_delay)\n",
      "        File \u001b[35m\"c:\\Users\\user\\AppData\\Local\\Programs\\Python\\Python313\\Lib\\site-packages\\ez_setup.py\"\u001b[0m, line \u001b[35m193\u001b[0m, in \u001b[35mdownload_setuptools\u001b[0m\n",
      "          src = urlopen(url)\n",
      "        File \u001b[35m\"c:\\Users\\user\\AppData\\Local\\Programs\\Python\\Python313\\Lib\\urllib\\request.py\"\u001b[0m, line \u001b[35m189\u001b[0m, in \u001b[35murlopen\u001b[0m\n",
      "          return \u001b[31mopener.open\u001b[0m\u001b[1;31m(url, data, timeout)\u001b[0m\n",
      "                 \u001b[31m~~~~~~~~~~~\u001b[0m\u001b[1;31m^^^^^^^^^^^^^^^^^^^^\u001b[0m\n",
      "        File \u001b[35m\"c:\\Users\\user\\AppData\\Local\\Programs\\Python\\Python313\\Lib\\urllib\\request.py\"\u001b[0m, line \u001b[35m495\u001b[0m, in \u001b[35mopen\u001b[0m\n",
      "          response = meth(req, response)\n",
      "        File \u001b[35m\"c:\\Users\\user\\AppData\\Local\\Programs\\Python\\Python313\\Lib\\urllib\\request.py\"\u001b[0m, line \u001b[35m604\u001b[0m, in \u001b[35mhttp_response\u001b[0m\n",
      "          response = self.parent.error(\n",
      "              'http', request, response, code, msg, hdrs)\n",
      "        File \u001b[35m\"c:\\Users\\user\\AppData\\Local\\Programs\\Python\\Python313\\Lib\\urllib\\request.py\"\u001b[0m, line \u001b[35m533\u001b[0m, in \u001b[35merror\u001b[0m\n",
      "          return \u001b[31mself._call_chain\u001b[0m\u001b[1;31m(*args)\u001b[0m\n",
      "                 \u001b[31m~~~~~~~~~~~~~~~~\u001b[0m\u001b[1;31m^^^^^^^\u001b[0m\n",
      "        File \u001b[35m\"c:\\Users\\user\\AppData\\Local\\Programs\\Python\\Python313\\Lib\\urllib\\request.py\"\u001b[0m, line \u001b[35m466\u001b[0m, in \u001b[35m_call_chain\u001b[0m\n",
      "          result = func(*args)\n",
      "        File \u001b[35m\"c:\\Users\\user\\AppData\\Local\\Programs\\Python\\Python313\\Lib\\urllib\\request.py\"\u001b[0m, line \u001b[35m613\u001b[0m, in \u001b[35mhttp_error_default\u001b[0m\n",
      "          raise HTTPError(req.full_url, code, msg, hdrs, fp)\n",
      "      \u001b[1;35murllib.error.HTTPError\u001b[0m: \u001b[35mHTTP Error 403: SSL is required\u001b[0m\n",
      "      [end of output]\n",
      "  \n",
      "  note: This error originates from a subprocess, and is likely not a problem with pip.\n",
      "error: metadata-generation-failed\n",
      "\n",
      "× Encountered error while generating package metadata.\n",
      "╰─> See above for output.\n",
      "\n",
      "note: This is an issue with the package mentioned above, not pip.\n",
      "hint: See above for details.\n"
     ]
    }
   ],
   "source": [
    "pip install spc"
   ]
  },
  {
   "cell_type": "code",
   "execution_count": null,
   "metadata": {},
   "outputs": [],
   "source": []
  },
  {
   "cell_type": "code",
   "execution_count": 7,
   "metadata": {},
   "outputs": [
    {
     "ename": "SyntaxError",
     "evalue": "(unicode error) 'unicodeescape' codec can't decode bytes in position 2-3: truncated \\UXXXXXXXX escape (3798569695.py, line 2)",
     "output_type": "error",
     "traceback": [
      "\u001b[1;36m  Cell \u001b[1;32mIn[7], line 2\u001b[1;36m\u001b[0m\n\u001b[1;33m    spc=read_spc('C:\\Users\\user\\Downloads\\Spectrum_(LS6)-2024_12_27-ID_38.spc')\u001b[0m\n\u001b[1;37m                 ^\u001b[0m\n\u001b[1;31mSyntaxError\u001b[0m\u001b[1;31m:\u001b[0m (unicode error) 'unicodeescape' codec can't decode bytes in position 2-3: truncated \\UXXXXXXXX escape\n"
     ]
    }
   ],
   "source": [
    "from pyspectra.readers.read_spc import read_spc\n",
    "spc=read_spc('C:\\Users\\user\\Downloads\\Spectrum_(LS6)-2024_12_27-ID_38.spc')\n",
    "spc.plot()\n",
    "plt.xlabel(\"nm\")\n",
    "plt.ylabel(\"Abs\")\n",
    "plt.grid(True)\n",
    "print(spc.head())"
   ]
  }
 ],
 "metadata": {
  "kernelspec": {
   "display_name": "Python 3",
   "language": "python",
   "name": "python3"
  },
  "language_info": {
   "codemirror_mode": {
    "name": "ipython",
    "version": 3
   },
   "file_extension": ".py",
   "mimetype": "text/x-python",
   "name": "python",
   "nbconvert_exporter": "python",
   "pygments_lexer": "ipython3",
   "version": "3.13.2"
  }
 },
 "nbformat": 4,
 "nbformat_minor": 2
}
